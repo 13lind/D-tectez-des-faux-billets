{
 "cells": [
  {
   "cell_type": "markdown",
   "id": "895b6ee7",
   "metadata": {},
   "source": [
    "Programme de détection de faux billets"
   ]
  },
  {
   "cell_type": "code",
   "execution_count": 1,
   "id": "7c8b1eca",
   "metadata": {},
   "outputs": [],
   "source": [
    "import sys\n",
    "import pandas as pd\n",
    "import numpy as np\n",
    "from sklearn.linear_model import LogisticRegression\n",
    "from sklearn import model_selection"
   ]
  },
  {
   "cell_type": "markdown",
   "id": "bbf4bdee",
   "metadata": {},
   "source": [
    "Création du modèle de prédiction"
   ]
  },
  {
   "cell_type": "code",
   "execution_count": 2,
   "id": "00522e66",
   "metadata": {},
   "outputs": [],
   "source": [
    "#importation du fichier d'entrainement\n",
    "dataset = pd.read_csv(\"billet.csv\", sep=\",\", decimal=\".\", header=0)\n",
    "\n",
    "#transformation de la variable is_genuine\n",
    "#True = 0\n",
    "#False = 1\n",
    "dataset['is_genuine'] = dataset['is_genuine'].apply(lambda x: 0 if x == True else 1)\n",
    "dataset[\"is_genuine\"] = dataset[\"is_genuine\"].astype('category')\n",
    "\n",
    "# on définit x et y\n",
    "y = dataset[\"is_genuine\"].cat.codes\n",
    "X = dataset.select_dtypes(np.number)\n",
    "\n",
    "#subdivision des données en entrainement et test\n",
    "X_train,X_test,y_train,y_test = model_selection.train_test_split (X,y,test_size = 0.2 ,random_state=0)\n",
    "\n",
    "#regression logistique\n",
    "lr = LogisticRegression()\n",
    "\n",
    "#modélisation sur les données d'apprentissage\n",
    "modele_sk = lr.fit(X_train, y_train)"
   ]
  },
  {
   "cell_type": "markdown",
   "id": "fd436ba3",
   "metadata": {},
   "source": [
    "Import et contrôle du fichier à tester"
   ]
  },
  {
   "cell_type": "code",
   "execution_count": 3,
   "id": "9c9a6a1c",
   "metadata": {},
   "outputs": [],
   "source": [
    "from tkinter import * \n",
    "from tkinter import filedialog \n",
    "from tkinter import messagebox\n",
    "\n",
    "#sélection du fichier\n",
    "root = Tk() \n",
    "root.filename = filedialog.askopenfilename(initialdir = \"C:/Users/OpenClassrooms/jupyter-notebooks/P6_Détectez_des_faux_billets/\",\n",
    "                                           title = \"Sélectionnez le fichier\",\n",
    "                                           filetypes = ((\"Fichiers CSV\",\"*.csv\"),(\"all files\",\"*.*\"))) \n",
    "root.withdraw()\n",
    "\n",
    "dataset_new = pd.read_csv(root.filename, sep=\",\", decimal=\".\", header=0)"
   ]
  },
  {
   "cell_type": "code",
   "execution_count": 4,
   "id": "1ac8fb09",
   "metadata": {},
   "outputs": [
    {
     "name": "stdout",
     "output_type": "stream",
     "text": [
      "Les variables du fichier sont correctes. Voici un aperçu des données :\n",
      "\n",
      "    diagonal  height_left  height_right  margin_low  margin_up  length   id\n",
      "0    171.76       104.01        103.54        5.21       3.30  111.42  A_1\n",
      "1    171.87       104.17        104.13        6.00       3.31  112.09  A_2\n",
      "2    172.00       104.58        104.29        4.99       3.39  111.57  A_3\n",
      "3    172.49       104.55        104.34        4.44       3.03  113.20  A_4\n",
      "4    171.65       103.63        103.56        3.77       3.16  113.33  A_5\n"
     ]
    }
   ],
   "source": [
    "#vérification des variables\n",
    "liste_X = [\"diagonal\",\"height_left\",\"height_right\",\"margin_low\",\"margin_up\",\"length\",\"id\"]\n",
    "if all([item in dataset_new.columns for item in liste_X]):\n",
    "    print(\"Les variables du fichier sont correctes. Voici un aperçu des données :\\n\\n\",dataset_new)\n",
    "else :\n",
    "    messagebox.showerror(title=\"Erreur d'importation du fichier\", message=\"Attention, les colonnes du fichier \"+root.filename+\" ne correspondent pas à la trame attendue !\")\n",
    "    sys.exit()"
   ]
  },
  {
   "cell_type": "code",
   "execution_count": 5,
   "id": "16b1d198",
   "metadata": {},
   "outputs": [
    {
     "name": "stdout",
     "output_type": "stream",
     "text": [
      "Aucune valeur nulle détectée, le traitement peut continuer.\n"
     ]
    }
   ],
   "source": [
    "if((dataset_new.isnull().sum(axis = 0)).sum() > 0):\n",
    "    messagebox.showerror(title=\"Valeurs nulles détectées\", message=\"Attention, des valeurs nulles ont été détectées dans le fichier ! Traitement impossible en l'état.\")\n",
    "    sys.exit()\n",
    "else :\n",
    "    print(\"Aucune valeur nulle détectée, le traitement peut continuer.\")"
   ]
  },
  {
   "cell_type": "markdown",
   "id": "ac97e1bc",
   "metadata": {},
   "source": [
    "Application de l'algorithme de prédiction"
   ]
  },
  {
   "cell_type": "code",
   "execution_count": 6,
   "id": "dd52cca4",
   "metadata": {},
   "outputs": [],
   "source": [
    "#creation des variables \n",
    "X_new = dataset_new[liste_X[:-1]]\n",
    "\n",
    "#calcul des probabilités d'affectation sur l'échantillon exemple\n",
    "probas_new = lr.predict_proba(X_new)\n",
    "\n",
    "#score de presence : Probalilité de chance que le billet soit VRAI (is_genuine = 0)\n",
    "score_new = probas_new[:,0]\n",
    "\n",
    "#Ajout de la colonne probabilité\n",
    "dataset_new[\"proba_true\"] = score_new\n",
    "#calcul de la variable is_genuine\n",
    "dataset_new[\"is_genuine\"] = np.where(dataset_new[\"proba_true\"]>=0.5, 'Oui', 'Non')\n",
    "#traitement du Dataframe pour meilleure compréhension :\n",
    "dataset_new_fin = dataset_new[[\"id\",\"proba_true\",\"is_genuine\"]].rename(columns={\"id\":\"Identifiant du billet testé\",\n",
    "                                                                                 \"proba_true\":\"Probabilité que le billet soit VRAI (%)\",\n",
    "                                                                                 \"is_genuine\":\"Est authentique ?\"})\n",
    "dataset_new_fin[\"Probabilité que le billet soit VRAI (%)\"] = round((dataset_new_fin[\"Probabilité que le billet soit VRAI (%)\"]*100),2)"
   ]
  },
  {
   "cell_type": "markdown",
   "id": "d5f3332d",
   "metadata": {},
   "source": [
    "Résultats du traitement"
   ]
  },
  {
   "cell_type": "markdown",
   "id": "9ca6b120",
   "metadata": {},
   "source": [
    "Selon la consigne donnée, pour chaque billet, l'algorithme de classification devra donner la probabilité que le billet soit vrai. Si cette probabilité est supérieure ou égale à 0.5 (50%), le billet sera considéré comme vrai. Dans le cas contraire, il sera considéré comme faux."
   ]
  },
  {
   "cell_type": "code",
   "execution_count": 7,
   "id": "b8743458",
   "metadata": {},
   "outputs": [
    {
     "data": {
      "text/html": [
       "<div>\n",
       "<style scoped>\n",
       "    .dataframe tbody tr th:only-of-type {\n",
       "        vertical-align: middle;\n",
       "    }\n",
       "\n",
       "    .dataframe tbody tr th {\n",
       "        vertical-align: top;\n",
       "    }\n",
       "\n",
       "    .dataframe thead th {\n",
       "        text-align: right;\n",
       "    }\n",
       "</style>\n",
       "<table border=\"1\" class=\"dataframe\">\n",
       "  <thead>\n",
       "    <tr style=\"text-align: right;\">\n",
       "      <th></th>\n",
       "      <th>Identifiant du billet testé</th>\n",
       "      <th>Probabilité que le billet soit VRAI (%)</th>\n",
       "      <th>Est authentique ?</th>\n",
       "    </tr>\n",
       "  </thead>\n",
       "  <tbody>\n",
       "    <tr>\n",
       "      <th>0</th>\n",
       "      <td>A_1</td>\n",
       "      <td>5.10</td>\n",
       "      <td>Non</td>\n",
       "    </tr>\n",
       "    <tr>\n",
       "      <th>1</th>\n",
       "      <td>A_2</td>\n",
       "      <td>1.36</td>\n",
       "      <td>Non</td>\n",
       "    </tr>\n",
       "    <tr>\n",
       "      <th>2</th>\n",
       "      <td>A_3</td>\n",
       "      <td>3.42</td>\n",
       "      <td>Non</td>\n",
       "    </tr>\n",
       "    <tr>\n",
       "      <th>3</th>\n",
       "      <td>A_4</td>\n",
       "      <td>86.73</td>\n",
       "      <td>Oui</td>\n",
       "    </tr>\n",
       "    <tr>\n",
       "      <th>4</th>\n",
       "      <td>A_5</td>\n",
       "      <td>99.53</td>\n",
       "      <td>Oui</td>\n",
       "    </tr>\n",
       "  </tbody>\n",
       "</table>\n",
       "</div>"
      ],
      "text/plain": [
       "  Identifiant du billet testé  Probabilité que le billet soit VRAI (%)  \\\n",
       "0                         A_1                                     5.10   \n",
       "1                         A_2                                     1.36   \n",
       "2                         A_3                                     3.42   \n",
       "3                         A_4                                    86.73   \n",
       "4                         A_5                                    99.53   \n",
       "\n",
       "  Est authentique ?  \n",
       "0               Non  \n",
       "1               Non  \n",
       "2               Non  \n",
       "3               Oui  \n",
       "4               Oui  "
      ]
     },
     "execution_count": 7,
     "metadata": {},
     "output_type": "execute_result"
    }
   ],
   "source": [
    "dataset_new_fin"
   ]
  },
  {
   "cell_type": "code",
   "execution_count": 8,
   "id": "3b384720",
   "metadata": {},
   "outputs": [],
   "source": [
    "liste_faux_billets = list(dataset_new_fin.loc[(dataset_new_fin[\"Est authentique ?\"] == \"Non\"),\"Identifiant du billet testé\"].values)"
   ]
  },
  {
   "cell_type": "code",
   "execution_count": 9,
   "id": "de5dab03",
   "metadata": {},
   "outputs": [
    {
     "name": "stdout",
     "output_type": "stream",
     "text": [
      "Les billets dont l'identifiant est dans la liste ['A_1', 'A_2', 'A_3'] \n",
      "ont été identifiés commes FAUX selon l'algorithme de prédiction.\n"
     ]
    }
   ],
   "source": [
    "print(\"Les billets dont l'identifiant est dans la liste\", liste_faux_billets, \"\\nont été identifiés commes FAUX selon l'algorithme de prédiction.\")"
   ]
  },
  {
   "cell_type": "code",
   "execution_count": null,
   "id": "2d64e25e",
   "metadata": {},
   "outputs": [],
   "source": []
  }
 ],
 "metadata": {
  "kernelspec": {
   "display_name": "Python 3",
   "language": "python",
   "name": "python3"
  },
  "language_info": {
   "codemirror_mode": {
    "name": "ipython",
    "version": 3
   },
   "file_extension": ".py",
   "mimetype": "text/x-python",
   "name": "python",
   "nbconvert_exporter": "python",
   "pygments_lexer": "ipython3",
   "version": "3.8.8"
  }
 },
 "nbformat": 4,
 "nbformat_minor": 5
}
